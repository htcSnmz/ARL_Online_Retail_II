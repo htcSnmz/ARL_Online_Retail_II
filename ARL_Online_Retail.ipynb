{
 "cells": [
  {
   "cell_type": "markdown",
   "id": "ef3045f5",
   "metadata": {},
   "source": [
    "Aşağıda 3 farklı kullanıcının sepet bilgileri verilmiştir. Bu sepet bilgilerine en uygun ürün önerisini birliktelik kuralı kullanarak yapınız. Karar kurallarını 2010-2011 Germany müşterileri üzerinden türetiniz.\n",
    "\n",
    "Kullanıcı 1’in sepetinde bulunan ürünün id'si: 21987\n",
    "\n",
    "Kullanıcı 2’in sepetinde bulunan ürünün id'si : 23235\n",
    "\n",
    "Kullanıcı 3’in sepetinde bulunan ürünün id'si : 22747"
   ]
  },
  {
   "cell_type": "code",
   "execution_count": 1,
   "id": "448348ee",
   "metadata": {},
   "outputs": [],
   "source": [
    "import pandas as pd\n",
    "from mlxtend.frequent_patterns import apriori, association_rules"
   ]
  },
  {
   "cell_type": "code",
   "execution_count": 2,
   "id": "8564c195",
   "metadata": {},
   "outputs": [],
   "source": [
    "df = pd.read_excel(\"C:/Users/htcso/OneDrive/Masaüstü/pythonProject/datasets/online_retail_II.xlsx\",\n",
    "                sheet_name = \"Year 2010-2011\")"
   ]
  },
  {
   "cell_type": "code",
   "execution_count": 3,
   "id": "daa392ad",
   "metadata": {},
   "outputs": [],
   "source": [
    "retail = df.copy()"
   ]
  },
  {
   "cell_type": "code",
   "execution_count": 4,
   "id": "9fbfb9bb",
   "metadata": {},
   "outputs": [
    {
     "data": {
      "text/html": [
       "<div>\n",
       "<style scoped>\n",
       "    .dataframe tbody tr th:only-of-type {\n",
       "        vertical-align: middle;\n",
       "    }\n",
       "\n",
       "    .dataframe tbody tr th {\n",
       "        vertical-align: top;\n",
       "    }\n",
       "\n",
       "    .dataframe thead th {\n",
       "        text-align: right;\n",
       "    }\n",
       "</style>\n",
       "<table border=\"1\" class=\"dataframe\">\n",
       "  <thead>\n",
       "    <tr style=\"text-align: right;\">\n",
       "      <th></th>\n",
       "      <th>Invoice</th>\n",
       "      <th>StockCode</th>\n",
       "      <th>Description</th>\n",
       "      <th>Quantity</th>\n",
       "      <th>InvoiceDate</th>\n",
       "      <th>Price</th>\n",
       "      <th>Customer ID</th>\n",
       "      <th>Country</th>\n",
       "    </tr>\n",
       "  </thead>\n",
       "  <tbody>\n",
       "    <tr>\n",
       "      <th>0</th>\n",
       "      <td>536365</td>\n",
       "      <td>85123A</td>\n",
       "      <td>WHITE HANGING HEART T-LIGHT HOLDER</td>\n",
       "      <td>6</td>\n",
       "      <td>2010-12-01 08:26:00</td>\n",
       "      <td>2.55</td>\n",
       "      <td>17850.0</td>\n",
       "      <td>United Kingdom</td>\n",
       "    </tr>\n",
       "    <tr>\n",
       "      <th>1</th>\n",
       "      <td>536365</td>\n",
       "      <td>71053</td>\n",
       "      <td>WHITE METAL LANTERN</td>\n",
       "      <td>6</td>\n",
       "      <td>2010-12-01 08:26:00</td>\n",
       "      <td>3.39</td>\n",
       "      <td>17850.0</td>\n",
       "      <td>United Kingdom</td>\n",
       "    </tr>\n",
       "    <tr>\n",
       "      <th>2</th>\n",
       "      <td>536365</td>\n",
       "      <td>84406B</td>\n",
       "      <td>CREAM CUPID HEARTS COAT HANGER</td>\n",
       "      <td>8</td>\n",
       "      <td>2010-12-01 08:26:00</td>\n",
       "      <td>2.75</td>\n",
       "      <td>17850.0</td>\n",
       "      <td>United Kingdom</td>\n",
       "    </tr>\n",
       "    <tr>\n",
       "      <th>3</th>\n",
       "      <td>536365</td>\n",
       "      <td>84029G</td>\n",
       "      <td>KNITTED UNION FLAG HOT WATER BOTTLE</td>\n",
       "      <td>6</td>\n",
       "      <td>2010-12-01 08:26:00</td>\n",
       "      <td>3.39</td>\n",
       "      <td>17850.0</td>\n",
       "      <td>United Kingdom</td>\n",
       "    </tr>\n",
       "    <tr>\n",
       "      <th>4</th>\n",
       "      <td>536365</td>\n",
       "      <td>84029E</td>\n",
       "      <td>RED WOOLLY HOTTIE WHITE HEART.</td>\n",
       "      <td>6</td>\n",
       "      <td>2010-12-01 08:26:00</td>\n",
       "      <td>3.39</td>\n",
       "      <td>17850.0</td>\n",
       "      <td>United Kingdom</td>\n",
       "    </tr>\n",
       "  </tbody>\n",
       "</table>\n",
       "</div>"
      ],
      "text/plain": [
       "  Invoice StockCode                          Description  Quantity  \\\n",
       "0  536365    85123A   WHITE HANGING HEART T-LIGHT HOLDER         6   \n",
       "1  536365     71053                  WHITE METAL LANTERN         6   \n",
       "2  536365    84406B       CREAM CUPID HEARTS COAT HANGER         8   \n",
       "3  536365    84029G  KNITTED UNION FLAG HOT WATER BOTTLE         6   \n",
       "4  536365    84029E       RED WOOLLY HOTTIE WHITE HEART.         6   \n",
       "\n",
       "          InvoiceDate  Price  Customer ID         Country  \n",
       "0 2010-12-01 08:26:00   2.55      17850.0  United Kingdom  \n",
       "1 2010-12-01 08:26:00   3.39      17850.0  United Kingdom  \n",
       "2 2010-12-01 08:26:00   2.75      17850.0  United Kingdom  \n",
       "3 2010-12-01 08:26:00   3.39      17850.0  United Kingdom  \n",
       "4 2010-12-01 08:26:00   3.39      17850.0  United Kingdom  "
      ]
     },
     "execution_count": 4,
     "metadata": {},
     "output_type": "execute_result"
    }
   ],
   "source": [
    "retail.head()"
   ]
  },
  {
   "cell_type": "code",
   "execution_count": 5,
   "id": "aa3b1f9c",
   "metadata": {},
   "outputs": [
    {
     "data": {
      "text/plain": [
       "(541910, 8)"
      ]
     },
     "execution_count": 5,
     "metadata": {},
     "output_type": "execute_result"
    }
   ],
   "source": [
    "retail.shape"
   ]
  },
  {
   "cell_type": "code",
   "execution_count": 6,
   "id": "d1c7183f",
   "metadata": {},
   "outputs": [],
   "source": [
    "german_retail = retail[retail[\"Country\"] == \"Germany\"]"
   ]
  },
  {
   "cell_type": "code",
   "execution_count": 7,
   "id": "6fdba4f5",
   "metadata": {},
   "outputs": [
    {
     "data": {
      "text/plain": [
       "(9495, 8)"
      ]
     },
     "execution_count": 7,
     "metadata": {},
     "output_type": "execute_result"
    }
   ],
   "source": [
    "german_retail.shape"
   ]
  },
  {
   "cell_type": "code",
   "execution_count": 8,
   "id": "d3767a62",
   "metadata": {},
   "outputs": [],
   "source": [
    "german_retail = german_retail[german_retail[\"StockCode\"] != \"POST\"]"
   ]
  },
  {
   "cell_type": "code",
   "execution_count": 9,
   "id": "fc2ca115",
   "metadata": {},
   "outputs": [
    {
     "data": {
      "text/plain": [
       "(9112, 8)"
      ]
     },
     "execution_count": 9,
     "metadata": {},
     "output_type": "execute_result"
    }
   ],
   "source": [
    "german_retail.shape"
   ]
  },
  {
   "cell_type": "code",
   "execution_count": 10,
   "id": "8da60fdd",
   "metadata": {},
   "outputs": [],
   "source": [
    "german_retail.dropna(inplace = True)"
   ]
  },
  {
   "cell_type": "code",
   "execution_count": 11,
   "id": "f478ea93",
   "metadata": {},
   "outputs": [
    {
     "data": {
      "text/plain": [
       "(9112, 8)"
      ]
     },
     "execution_count": 11,
     "metadata": {},
     "output_type": "execute_result"
    }
   ],
   "source": [
    "german_retail.shape"
   ]
  },
  {
   "cell_type": "code",
   "execution_count": 12,
   "id": "c48a2fc7",
   "metadata": {},
   "outputs": [],
   "source": [
    "german_retail = german_retail[~german_retail[\"Invoice\"].str.contains(\"C\", na=False)]"
   ]
  },
  {
   "cell_type": "code",
   "execution_count": 13,
   "id": "a76432ca",
   "metadata": {},
   "outputs": [
    {
     "data": {
      "text/plain": [
       "(8668, 8)"
      ]
     },
     "execution_count": 13,
     "metadata": {},
     "output_type": "execute_result"
    }
   ],
   "source": [
    "german_retail.shape"
   ]
  },
  {
   "cell_type": "code",
   "execution_count": 14,
   "id": "efafd938",
   "metadata": {},
   "outputs": [],
   "source": [
    "german_retail = german_retail[german_retail[\"Price\"] > 0 ]\n",
    "german_retail = german_retail[german_retail[\"Quantity\"] > 0 ]"
   ]
  },
  {
   "cell_type": "code",
   "execution_count": 15,
   "id": "d6414d45",
   "metadata": {},
   "outputs": [
    {
     "data": {
      "text/plain": [
       "(8666, 8)"
      ]
     },
     "execution_count": 15,
     "metadata": {},
     "output_type": "execute_result"
    }
   ],
   "source": [
    "german_retail.shape"
   ]
  },
  {
   "cell_type": "code",
   "execution_count": 16,
   "id": "922b7b9c",
   "metadata": {},
   "outputs": [],
   "source": [
    "def outlier_threshold(dataframe, variable):\n",
    "    q1 = dataframe[variable].quantile(0.01)\n",
    "    q3 = dataframe[variable].quantile(0.99)\n",
    "    iqr = q3 - q1\n",
    "    up_limit = q3 + 1.5 * iqr\n",
    "    low_limit = q1 - 1.5 * iqr\n",
    "    return low_limit, up_limit\n",
    "\n",
    "def replace_with_thresholds(dataframe, variable):\n",
    "    low_limit, up_limit = outlier_threshold(dataframe, variable)\n",
    "    dataframe.loc[dataframe[variable] > up_limit, variable] = up_limit\n",
    "    dataframe.loc[dataframe[variable] < low_limit, variable] = low_limit"
   ]
  },
  {
   "cell_type": "code",
   "execution_count": 17,
   "id": "6cd5c8c9",
   "metadata": {},
   "outputs": [],
   "source": [
    "replace_with_thresholds(german_retail, \"Price\")\n",
    "replace_with_thresholds(german_retail, \"Quantity\")"
   ]
  },
  {
   "cell_type": "code",
   "execution_count": 18,
   "id": "38281848",
   "metadata": {},
   "outputs": [
    {
     "data": {
      "text/html": [
       "<div>\n",
       "<style scoped>\n",
       "    .dataframe tbody tr th:only-of-type {\n",
       "        vertical-align: middle;\n",
       "    }\n",
       "\n",
       "    .dataframe tbody tr th {\n",
       "        vertical-align: top;\n",
       "    }\n",
       "\n",
       "    .dataframe thead th {\n",
       "        text-align: right;\n",
       "    }\n",
       "</style>\n",
       "<table border=\"1\" class=\"dataframe\">\n",
       "  <thead>\n",
       "    <tr style=\"text-align: right;\">\n",
       "      <th>StockCode</th>\n",
       "      <th>10002</th>\n",
       "      <th>10125</th>\n",
       "      <th>10135</th>\n",
       "      <th>11001</th>\n",
       "      <th>15034</th>\n",
       "      <th>15036</th>\n",
       "      <th>15039</th>\n",
       "      <th>16008</th>\n",
       "      <th>16011</th>\n",
       "      <th>16014</th>\n",
       "      <th>...</th>\n",
       "      <th>90160D</th>\n",
       "      <th>90161B</th>\n",
       "      <th>90161C</th>\n",
       "      <th>90161D</th>\n",
       "      <th>90201A</th>\n",
       "      <th>90201B</th>\n",
       "      <th>90201C</th>\n",
       "      <th>90201D</th>\n",
       "      <th>90202D</th>\n",
       "      <th>M</th>\n",
       "    </tr>\n",
       "    <tr>\n",
       "      <th>Invoice</th>\n",
       "      <th></th>\n",
       "      <th></th>\n",
       "      <th></th>\n",
       "      <th></th>\n",
       "      <th></th>\n",
       "      <th></th>\n",
       "      <th></th>\n",
       "      <th></th>\n",
       "      <th></th>\n",
       "      <th></th>\n",
       "      <th></th>\n",
       "      <th></th>\n",
       "      <th></th>\n",
       "      <th></th>\n",
       "      <th></th>\n",
       "      <th></th>\n",
       "      <th></th>\n",
       "      <th></th>\n",
       "      <th></th>\n",
       "      <th></th>\n",
       "      <th></th>\n",
       "    </tr>\n",
       "  </thead>\n",
       "  <tbody>\n",
       "    <tr>\n",
       "      <th>536527</th>\n",
       "      <td>0</td>\n",
       "      <td>0</td>\n",
       "      <td>0</td>\n",
       "      <td>0</td>\n",
       "      <td>0</td>\n",
       "      <td>0</td>\n",
       "      <td>0</td>\n",
       "      <td>0</td>\n",
       "      <td>0</td>\n",
       "      <td>0</td>\n",
       "      <td>...</td>\n",
       "      <td>0</td>\n",
       "      <td>0</td>\n",
       "      <td>0</td>\n",
       "      <td>0</td>\n",
       "      <td>0</td>\n",
       "      <td>0</td>\n",
       "      <td>0</td>\n",
       "      <td>0</td>\n",
       "      <td>0</td>\n",
       "      <td>0</td>\n",
       "    </tr>\n",
       "    <tr>\n",
       "      <th>536840</th>\n",
       "      <td>0</td>\n",
       "      <td>0</td>\n",
       "      <td>0</td>\n",
       "      <td>0</td>\n",
       "      <td>0</td>\n",
       "      <td>0</td>\n",
       "      <td>0</td>\n",
       "      <td>0</td>\n",
       "      <td>0</td>\n",
       "      <td>0</td>\n",
       "      <td>...</td>\n",
       "      <td>0</td>\n",
       "      <td>0</td>\n",
       "      <td>0</td>\n",
       "      <td>0</td>\n",
       "      <td>0</td>\n",
       "      <td>0</td>\n",
       "      <td>0</td>\n",
       "      <td>0</td>\n",
       "      <td>0</td>\n",
       "      <td>0</td>\n",
       "    </tr>\n",
       "    <tr>\n",
       "      <th>536861</th>\n",
       "      <td>0</td>\n",
       "      <td>0</td>\n",
       "      <td>0</td>\n",
       "      <td>0</td>\n",
       "      <td>0</td>\n",
       "      <td>0</td>\n",
       "      <td>0</td>\n",
       "      <td>0</td>\n",
       "      <td>0</td>\n",
       "      <td>0</td>\n",
       "      <td>...</td>\n",
       "      <td>0</td>\n",
       "      <td>0</td>\n",
       "      <td>0</td>\n",
       "      <td>0</td>\n",
       "      <td>0</td>\n",
       "      <td>0</td>\n",
       "      <td>0</td>\n",
       "      <td>0</td>\n",
       "      <td>0</td>\n",
       "      <td>0</td>\n",
       "    </tr>\n",
       "    <tr>\n",
       "      <th>536967</th>\n",
       "      <td>0</td>\n",
       "      <td>0</td>\n",
       "      <td>0</td>\n",
       "      <td>0</td>\n",
       "      <td>0</td>\n",
       "      <td>0</td>\n",
       "      <td>0</td>\n",
       "      <td>0</td>\n",
       "      <td>0</td>\n",
       "      <td>0</td>\n",
       "      <td>...</td>\n",
       "      <td>0</td>\n",
       "      <td>0</td>\n",
       "      <td>0</td>\n",
       "      <td>0</td>\n",
       "      <td>0</td>\n",
       "      <td>0</td>\n",
       "      <td>0</td>\n",
       "      <td>0</td>\n",
       "      <td>0</td>\n",
       "      <td>0</td>\n",
       "    </tr>\n",
       "    <tr>\n",
       "      <th>536983</th>\n",
       "      <td>0</td>\n",
       "      <td>0</td>\n",
       "      <td>0</td>\n",
       "      <td>0</td>\n",
       "      <td>0</td>\n",
       "      <td>0</td>\n",
       "      <td>0</td>\n",
       "      <td>0</td>\n",
       "      <td>0</td>\n",
       "      <td>0</td>\n",
       "      <td>...</td>\n",
       "      <td>0</td>\n",
       "      <td>0</td>\n",
       "      <td>0</td>\n",
       "      <td>0</td>\n",
       "      <td>0</td>\n",
       "      <td>0</td>\n",
       "      <td>0</td>\n",
       "      <td>0</td>\n",
       "      <td>0</td>\n",
       "      <td>0</td>\n",
       "    </tr>\n",
       "  </tbody>\n",
       "</table>\n",
       "<p>5 rows × 1663 columns</p>\n",
       "</div>"
      ],
      "text/plain": [
       "StockCode  10002  10125  10135  11001  15034  15036  15039  16008  16011  \\\n",
       "Invoice                                                                    \n",
       "536527         0      0      0      0      0      0      0      0      0   \n",
       "536840         0      0      0      0      0      0      0      0      0   \n",
       "536861         0      0      0      0      0      0      0      0      0   \n",
       "536967         0      0      0      0      0      0      0      0      0   \n",
       "536983         0      0      0      0      0      0      0      0      0   \n",
       "\n",
       "StockCode  16014  ...  90160D  90161B  90161C  90161D  90201A  90201B  90201C  \\\n",
       "Invoice           ...                                                           \n",
       "536527         0  ...       0       0       0       0       0       0       0   \n",
       "536840         0  ...       0       0       0       0       0       0       0   \n",
       "536861         0  ...       0       0       0       0       0       0       0   \n",
       "536967         0  ...       0       0       0       0       0       0       0   \n",
       "536983         0  ...       0       0       0       0       0       0       0   \n",
       "\n",
       "StockCode  90201D  90202D  M  \n",
       "Invoice                       \n",
       "536527          0       0  0  \n",
       "536840          0       0  0  \n",
       "536861          0       0  0  \n",
       "536967          0       0  0  \n",
       "536983          0       0  0  \n",
       "\n",
       "[5 rows x 1663 columns]"
      ]
     },
     "execution_count": 18,
     "metadata": {},
     "output_type": "execute_result"
    }
   ],
   "source": [
    "invoice_product_df = german_retail.groupby([\"Invoice\", \"StockCode\"])[\"Quantity\"].sum().\\\n",
    "    unstack().\\\n",
    "    fillna(0).\\\n",
    "    applymap(lambda x: 1 if x > 0 else 0)\n",
    "\n",
    "invoice_product_df.head()"
   ]
  },
  {
   "cell_type": "code",
   "execution_count": 19,
   "id": "5e66e159",
   "metadata": {},
   "outputs": [],
   "source": [
    "def create_rules(df, metric=\"support\", min_th=0.01):\n",
    "    frequent_itemsets = apriori(df, min_support=min_th, use_colnames=True)\n",
    "    rules = association_rules(frequent_itemsets, min_threshold=min_th, metric=metric)\n",
    "    return rules"
   ]
  },
  {
   "cell_type": "code",
   "execution_count": 20,
   "id": "8f25ed43",
   "metadata": {},
   "outputs": [
    {
     "name": "stderr",
     "output_type": "stream",
     "text": [
      "C:\\Users\\htcso\\anaconda3\\lib\\site-packages\\mlxtend\\frequent_patterns\\fpcommon.py:111: DeprecationWarning: DataFrames with non-bool types result in worse computationalperformance and their support might be discontinued in the future.Please use a DataFrame with bool type\n",
      "  warnings.warn(\n"
     ]
    },
    {
     "data": {
      "text/html": [
       "<div>\n",
       "<style scoped>\n",
       "    .dataframe tbody tr th:only-of-type {\n",
       "        vertical-align: middle;\n",
       "    }\n",
       "\n",
       "    .dataframe tbody tr th {\n",
       "        vertical-align: top;\n",
       "    }\n",
       "\n",
       "    .dataframe thead th {\n",
       "        text-align: right;\n",
       "    }\n",
       "</style>\n",
       "<table border=\"1\" class=\"dataframe\">\n",
       "  <thead>\n",
       "    <tr style=\"text-align: right;\">\n",
       "      <th></th>\n",
       "      <th>antecedents</th>\n",
       "      <th>consequents</th>\n",
       "      <th>antecedent support</th>\n",
       "      <th>consequent support</th>\n",
       "      <th>support</th>\n",
       "      <th>confidence</th>\n",
       "      <th>lift</th>\n",
       "      <th>leverage</th>\n",
       "      <th>conviction</th>\n",
       "    </tr>\n",
       "  </thead>\n",
       "  <tbody>\n",
       "    <tr>\n",
       "      <th>0</th>\n",
       "      <td>(16237)</td>\n",
       "      <td>(22326)</td>\n",
       "      <td>0.011136</td>\n",
       "      <td>0.249443</td>\n",
       "      <td>0.011136</td>\n",
       "      <td>1.000000</td>\n",
       "      <td>4.008929</td>\n",
       "      <td>0.008358</td>\n",
       "      <td>inf</td>\n",
       "    </tr>\n",
       "    <tr>\n",
       "      <th>1</th>\n",
       "      <td>(22326)</td>\n",
       "      <td>(16237)</td>\n",
       "      <td>0.249443</td>\n",
       "      <td>0.011136</td>\n",
       "      <td>0.011136</td>\n",
       "      <td>0.044643</td>\n",
       "      <td>4.008929</td>\n",
       "      <td>0.008358</td>\n",
       "      <td>1.035073</td>\n",
       "    </tr>\n",
       "    <tr>\n",
       "      <th>2</th>\n",
       "      <td>(20674)</td>\n",
       "      <td>(20675)</td>\n",
       "      <td>0.022272</td>\n",
       "      <td>0.033408</td>\n",
       "      <td>0.013363</td>\n",
       "      <td>0.600000</td>\n",
       "      <td>17.960000</td>\n",
       "      <td>0.012619</td>\n",
       "      <td>2.416481</td>\n",
       "    </tr>\n",
       "    <tr>\n",
       "      <th>3</th>\n",
       "      <td>(20675)</td>\n",
       "      <td>(20674)</td>\n",
       "      <td>0.033408</td>\n",
       "      <td>0.022272</td>\n",
       "      <td>0.013363</td>\n",
       "      <td>0.400000</td>\n",
       "      <td>17.960000</td>\n",
       "      <td>0.012619</td>\n",
       "      <td>1.629547</td>\n",
       "    </tr>\n",
       "    <tr>\n",
       "      <th>4</th>\n",
       "      <td>(20674)</td>\n",
       "      <td>(20676)</td>\n",
       "      <td>0.022272</td>\n",
       "      <td>0.037862</td>\n",
       "      <td>0.011136</td>\n",
       "      <td>0.500000</td>\n",
       "      <td>13.205882</td>\n",
       "      <td>0.010293</td>\n",
       "      <td>1.924276</td>\n",
       "    </tr>\n",
       "  </tbody>\n",
       "</table>\n",
       "</div>"
      ],
      "text/plain": [
       "  antecedents consequents  antecedent support  consequent support   support  \\\n",
       "0     (16237)     (22326)            0.011136            0.249443  0.011136   \n",
       "1     (22326)     (16237)            0.249443            0.011136  0.011136   \n",
       "2     (20674)     (20675)            0.022272            0.033408  0.013363   \n",
       "3     (20675)     (20674)            0.033408            0.022272  0.013363   \n",
       "4     (20674)     (20676)            0.022272            0.037862  0.011136   \n",
       "\n",
       "   confidence       lift  leverage  conviction  \n",
       "0    1.000000   4.008929  0.008358         inf  \n",
       "1    0.044643   4.008929  0.008358    1.035073  \n",
       "2    0.600000  17.960000  0.012619    2.416481  \n",
       "3    0.400000  17.960000  0.012619    1.629547  \n",
       "4    0.500000  13.205882  0.010293    1.924276  "
      ]
     },
     "execution_count": 20,
     "metadata": {},
     "output_type": "execute_result"
    }
   ],
   "source": [
    "rules = create_rules(invoice_product_df)\n",
    "rules.head()"
   ]
  },
  {
   "cell_type": "code",
   "execution_count": 21,
   "id": "713a9ff4",
   "metadata": {},
   "outputs": [],
   "source": [
    "def check_stock_code(dataframe, stock_code):\n",
    "    product_name = dataframe[dataframe[\"StockCode\"] == stock_code][\"Description\"].values[0]\n",
    "    print(product_name)"
   ]
  },
  {
   "cell_type": "code",
   "execution_count": 22,
   "id": "04468a89",
   "metadata": {},
   "outputs": [
    {
     "name": "stdout",
     "output_type": "stream",
     "text": [
      "PACK OF 6 SKULL PAPER CUPS\n",
      "STORAGE TIN VINTAGE LEAF\n",
      "POPPY'S PLAYHOUSE BATHROOM\n"
     ]
    }
   ],
   "source": [
    "user1_product_id = 21987\n",
    "user2_product_id = 23235\n",
    "user3_product_id = 22747\n",
    "\n",
    "check_stock_code(retail, user1_product_id)\n",
    "check_stock_code(retail, user2_product_id)\n",
    "check_stock_code(retail, user3_product_id)"
   ]
  },
  {
   "cell_type": "code",
   "execution_count": 23,
   "id": "76e65983",
   "metadata": {},
   "outputs": [],
   "source": [
    "def arl_recommender(rules_df, product_id, rec_count=1):\n",
    "    sorted_rules = rules_df.sort_values(\"lift\", ascending=False)\n",
    "    recommendation_list = []\n",
    "    for i, product in enumerate(sorted_rules[\"antecedents\"]):\n",
    "        for j in list(product):\n",
    "            if j == product_id:\n",
    "                recommendation_list.append(list(sorted_rules.iloc[i][\"consequents\"])[0])\n",
    "    return recommendation_list[:rec_count]"
   ]
  },
  {
   "cell_type": "code",
   "execution_count": 24,
   "id": "89701d54",
   "metadata": {},
   "outputs": [
    {
     "name": "stdout",
     "output_type": "stream",
     "text": [
      "[21989]\n",
      "[23244]\n",
      "[22746]\n"
     ]
    }
   ],
   "source": [
    "print(arl_recommender(rules, user1_product_id))\n",
    "print(arl_recommender(rules, user2_product_id))\n",
    "print(arl_recommender(rules, user3_product_id))"
   ]
  },
  {
   "cell_type": "code",
   "execution_count": 25,
   "id": "fa1acbd9",
   "metadata": {},
   "outputs": [
    {
     "name": "stdout",
     "output_type": "stream",
     "text": [
      "PACK OF 20 SKULL PAPER NAPKINS\n",
      "ROUND STORAGE TIN VINTAGE LEAF\n",
      "POPPY'S PLAYHOUSE LIVINGROOM \n"
     ]
    }
   ],
   "source": [
    "check_stock_code(retail, 21989)\n",
    "check_stock_code(retail, 23244)\n",
    "check_stock_code(retail, 22746)"
   ]
  },
  {
   "cell_type": "code",
   "execution_count": null,
   "id": "b30c521d",
   "metadata": {},
   "outputs": [],
   "source": []
  }
 ],
 "metadata": {
  "kernelspec": {
   "display_name": "Python 3 (ipykernel)",
   "language": "python",
   "name": "python3"
  },
  "language_info": {
   "codemirror_mode": {
    "name": "ipython",
    "version": 3
   },
   "file_extension": ".py",
   "mimetype": "text/x-python",
   "name": "python",
   "nbconvert_exporter": "python",
   "pygments_lexer": "ipython3",
   "version": "3.9.17"
  }
 },
 "nbformat": 4,
 "nbformat_minor": 5
}
